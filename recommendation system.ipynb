{
 "cells": [
  {
   "cell_type": "code",
   "execution_count": 205,
   "metadata": {
    "scrolled": true
   },
   "outputs": [],
   "source": [
    "# Import necessary libraries\n",
    "import pandas as pd\n",
    "from sklearn.neighbors import NearestNeighbors\n",
    "from collections import defaultdict\n",
    "from sklearn.feature_extraction.text import TfidfVectorizer\n",
    "import numpy as np"
   ]
  },
  {
   "cell_type": "code",
   "execution_count": 206,
   "metadata": {},
   "outputs": [],
   "source": [
    "\n",
    "# Create a list of tuples containing the user_id, item_id, and view_count for each record\n",
    "\n",
    "data = [\n",
    "    (1, 1, 'item 1 description', 2),\n",
    "    (1, 2, 'item 2 description', 3),\n",
    "    (1, 3, 'item 3 description', 1),\n",
    "    (1, 4, 'item 4 description', 5),\n",
    "    (1, 5, 'item 5 description', 1),\n",
    "    (2, 1, 'item 1 description', 3),\n",
    "    (2, 2, 'item 2 description', 2),\n",
    "    (2, 3, 'item 3 description', 4),\n",
    "    (2, 4, 'item 4 description', 1),\n",
    "    (2, 5, 'item 5 description', 5),\n",
    "    (3, 1, 'item 1 description', 1),\n",
    "    (3, 2, 'item 2 description', 5),\n",
    "    (3, 3, 'item 3 description', 2),\n",
    "    (3, 4, 'item 4 description', 3),\n",
    "    (3, 5, 'item 5 description', 4),\n",
    "    (4, 1, 'item 1 description', 4),\n",
    "    (4, 2, 'item 2 description', 1),\n",
    "    (4, 3, 'item 3 description', 3),\n",
    "    (4, 4, 'item 4 description', 2),\n",
    "    (4, 5, 'item 5 description', 5),\n",
    "    (5, 1, 'item 1 description', 5),\n",
    "    (5, 2, 'item 2 description', 4),\n",
    "    (5, 3, 'item 3 description', 1),\n",
    "    (5, 4, 'item 4 description', 2),\n",
    "    (5, 5, 'item 5 description', 3)\n",
    "]\n",
    "\n",
    "# Create a dataframe from the data\n",
    "\n",
    "# Create a dataframe from the data\n",
    "df = pd.DataFrame(data, columns=['user_id', 'item_id', 'description', 'view_count'])\n",
    "# Create a pivot table to calculate the number of times each item was viewed by each user\n",
    "\n",
    "views = pd.pivot_table(df, values='view_count', index='item_id', columns='user_id')\n"
   ]
  },
  {
   "cell_type": "code",
   "execution_count": 216,
   "metadata": {},
   "outputs": [
    {
     "data": {
      "text/plain": [
       "NearestNeighbors(metric='cosine')"
      ]
     },
     "execution_count": 216,
     "metadata": {},
     "output_type": "execute_result"
    }
   ],
   "source": [
    "model = NearestNeighbors(metric='cosine')\n",
    "\n",
    "# Use the TfidfVectorizer to transform the item descriptions into numerical vectors\n",
    "vectorizer = TfidfVectorizer()\n",
    "item_descriptions = df.groupby('item_id')['description'].apply(lambda x: x.str.cat(sep=' '))\n",
    "vectors = vectorizer.fit_transform(item_descriptions)\n",
    "model.fit(vectors)"
   ]
  },
  {
   "cell_type": "code",
   "execution_count": 221,
   "metadata": {},
   "outputs": [],
   "source": [
    "# Create a function that takes an item_id and returns a list of the 10 most similar items\n",
    "def get_similar_items(item_id):\n",
    "    # Get the item vector for the given item\n",
    "    item_vector = vectors[item_id - 1]\n",
    "    # Find the 5 nearest neighbors of the item vector\n",
    "    distances, indices = model.kneighbors(item_vector.reshape(1, -1), n_neighbors=5)\n",
    "    similar_items = []\n",
    "    for i in range(1, len(distances.flatten())):\n",
    "        similar_items.append((indices.flatten()[i], distances.flatten()[i]))\n",
    "    return similar_items\n",
    "\n",
    "\n",
    "\n",
    "# Create a function that takes a user_id and a dataframe and returns a list of recommended items\n",
    "def get_recommendations(user_id, df):\n",
    "    # Create a dictionary to store the recommended items and their scores\n",
    "    recommendations = defaultdict(int)\n",
    "    # Create a pivot table to calculate the items viewed by each user\n",
    "    items_viewed = pd.pivot_table(df, values='item_id', index='user_id', columns='view_count')\n",
    "\n",
    "    # Loop through the items_viewed dataframe and create a dictionary that maps each user to a list of items they have viewed\n",
    "    users_items = {}\n",
    "    for user_id, user_data in items_viewed.iterrows():\n",
    "        items = []\n",
    "        for item_id, view_count in user_data.items():\n",
    "            if not np.isnan(view_count):\n",
    "                items.append(item_id)\n",
    "        users_items[user_id] = items\n",
    "\n",
    "    # Loop through the items that the user has viewed and calculate the similarity of each item to other items\n",
    "    for item in users_items[user_id]:\n",
    "        # Get the 10 most similar items to the current item\n",
    "        similar_items = get_similar_items(item)\n",
    "        for similar_item, similarity in similar_items:\n",
    "            # Only consider items that the user hasn't viewed\n",
    "            if similar_item not in users_items[user_id]:\n",
    "                # Add the similarity score to the total score for the item\n",
    "                recommendations[similar_item] += similarity\n",
    "\n",
    "    # Sort the recommendations by their total similarity scores and return the list of recommended items\n",
    "    return sorted(recommendations, key=recommendations.get, reverse=True)\n"
   ]
  },
  {
   "cell_type": "code",
   "execution_count": 222,
   "metadata": {},
   "outputs": [],
   "source": [
    "recommendations = get_recommendations(1,df)"
   ]
  },
  {
   "cell_type": "code",
   "execution_count": 225,
   "metadata": {},
   "outputs": [],
   "source": [
    "#recommendations"
   ]
  },
  {
   "cell_type": "code",
   "execution_count": 224,
   "metadata": {},
   "outputs": [],
   "source": [
    "for item, score in recommendations:\n",
    "    print(f'Item: {item}, Score: {score}')"
   ]
  },
  {
   "cell_type": "code",
   "execution_count": 46,
   "metadata": {},
   "outputs": [
    {
     "name": "stderr",
     "output_type": "stream",
     "text": [
      "<ipython-input-43-37168a935153>:27: FutureWarning: iteritems is deprecated and will be removed in a future version. Use .items instead.\n",
      "  for similar_item, view_count in similar_user_viewed_items.iteritems():\n",
      "<ipython-input-43-37168a935153>:27: FutureWarning: iteritems is deprecated and will be removed in a future version. Use .items instead.\n",
      "  for similar_item, view_count in similar_user_viewed_items.iteritems():\n",
      "<ipython-input-43-37168a935153>:27: FutureWarning: iteritems is deprecated and will be removed in a future version. Use .items instead.\n",
      "  for similar_item, view_count in similar_user_viewed_items.iteritems():\n",
      "<ipython-input-43-37168a935153>:27: FutureWarning: iteritems is deprecated and will be removed in a future version. Use .items instead.\n",
      "  for similar_item, view_count in similar_user_viewed_items.iteritems():\n",
      "<ipython-input-43-37168a935153>:27: FutureWarning: iteritems is deprecated and will be removed in a future version. Use .items instead.\n",
      "  for similar_item, view_count in similar_user_viewed_items.iteritems():\n"
     ]
    },
    {
     "data": {
      "image/png": "[encoded data removed]",
      "text/plain": [
       "<Figure size 432x288 with 1 Axes>"
      ]
     },
     "metadata": {
      "needs_background": "light"
     },
     "output_type": "display_data"
    }
   ],
   "source": [
    "import matplotlib.pyplot as plt\n",
    "# Get the recommendations for user 3\n",
    "recommendations = get_recommendations(3)\n",
    "\n",
    "# Get the item names and scores\n",
    "item_names = [item[0] for item in recommendations]\n",
    "scores = [item[1] for item in recommendations]\n",
    "\n",
    "# Create the bar chart\n",
    "plt.bar(item_names, scores)\n",
    "\n",
    "# Add labels and title\n",
    "plt.xlabel('Item')\n",
    "plt.ylabel('Score')\n",
    "plt.title('Recommended items for user 3')\n",
    "\n",
    "# Show the plot\n",
    "plt.show()\n"
   ]
  },
  {
   "cell_type": "code",
   "execution_count": 47,
   "metadata": {},
   "outputs": [
    {
     "name": "stderr",
     "output_type": "stream",
     "text": [
      "<ipython-input-43-37168a935153>:27: FutureWarning: iteritems is deprecated and will be removed in a future version. Use .items instead.\n",
      "  for similar_item, view_count in similar_user_viewed_items.iteritems():\n",
      "<ipython-input-43-37168a935153>:27: FutureWarning: iteritems is deprecated and will be removed in a future version. Use .items instead.\n",
      "  for similar_item, view_count in similar_user_viewed_items.iteritems():\n",
      "<ipython-input-43-37168a935153>:27: FutureWarning: iteritems is deprecated and will be removed in a future version. Use .items instead.\n",
      "  for similar_item, view_count in similar_user_viewed_items.iteritems():\n",
      "<ipython-input-43-37168a935153>:27: FutureWarning: iteritems is deprecated and will be removed in a future version. Use .items instead.\n",
      "  for similar_item, view_count in similar_user_viewed_items.iteritems():\n",
      "<ipython-input-43-37168a935153>:27: FutureWarning: iteritems is deprecated and will be removed in a future version. Use .items instead.\n",
      "  for similar_item, view_count in similar_user_viewed_items.iteritems():\n"
     ]
    },
    {
     "data": {
      "image/png": "[encoded data removed]",
      "text/plain": [
       "<Figure size 432x288 with 1 Axes>"
      ]
     },
     "metadata": {
      "needs_background": "light"
     },
     "output_type": "display_data"
    }
   ],
   "source": [
    "recommendations = get_recommendations(3)\n",
    "\n",
    "# Get the item names and scores\n",
    "item_names = [item[0] for item in recommendations]\n",
    "scores = [item[1] for item in recommendations]\n",
    "\n",
    "# Create the bar chart\n",
    "plt.bar(item_names, scores, color=['b', 'g', 'r', 'c', 'm', 'y', 'k', '#ffa500', '#ee82ee', '#a52a2a'])\n",
    "\n",
    "# Add a grid to the chart\n",
    "plt.grid(True)\n",
    "\n",
    "# Add labels and title\n",
    "plt.xlabel('Item')\n",
    "plt.ylabel('Score')\n",
    "plt.title('Recommended items for user 3')\n",
    "\n",
    "# Add a legend to explain the scores\n",
    "plt.plot(np.nan, 'b', label='Score')\n",
    "plt.legend()\n",
    "\n",
    "# Show the plot\n",
    "plt.show()"
   ]
  },
  {
   "cell_type": "code",
   "execution_count": null,
   "metadata": {},
   "outputs": [],
   "source": []
  },
  {
   "cell_type": "code",
   "execution_count": null,
   "metadata": {},
   "outputs": [],
   "source": []
  }
 ],
 "metadata": {
  "kernelspec": {
   "display_name": "Python 3",
   "language": "python",
   "name": "python3"
  },
  "language_info": {
   "codemirror_mode": {
    "name": "ipython",
    "version": 3
   },
   "file_extension": ".py",
   "mimetype": "text/x-python",
   "name": "python",
   "nbconvert_exporter": "python",
   "pygments_lexer": "ipython3",
   "version": "3.8.5"
  }
 },
 "nbformat": 4,
 "nbformat_minor": 4
}
